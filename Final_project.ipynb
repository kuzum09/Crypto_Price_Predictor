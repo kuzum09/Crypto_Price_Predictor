{
 "cells": [
  {
   "cell_type": "code",
   "execution_count": null,
   "metadata": {},
   "outputs": [
    {
     "name": "stdout",
     "output_type": "stream",
     "text": [
      "Requirement already satisfied: tensorflow in c:\\users\\asus\\appdata\\local\\programs\\python\\python311\\lib\\site-packages (2.12.0)Note: you may need to restart the kernel to use updated packages.\n",
      "\n",
      "Requirement already satisfied: tensorflow-intel==2.12.0 in c:\\users\\asus\\appdata\\local\\programs\\python\\python311\\lib\\site-packages (from tensorflow) (2.12.0)\n",
      "Requirement already satisfied: absl-py>=1.0.0 in c:\\users\\asus\\appdata\\local\\programs\\python\\python311\\lib\\site-packages (from tensorflow-intel==2.12.0->tensorflow) (1.4.0)\n",
      "Requirement already satisfied: astunparse>=1.6.0 in c:\\users\\asus\\appdata\\local\\programs\\python\\python311\\lib\\site-packages (from tensorflow-intel==2.12.0->tensorflow) (1.6.3)\n",
      "Requirement already satisfied: flatbuffers>=2.0 in c:\\users\\asus\\appdata\\local\\programs\\python\\python311\\lib\\site-packages (from tensorflow-intel==2.12.0->tensorflow) (23.3.3)\n",
      "Requirement already satisfied: gast<=0.4.0,>=0.2.1 in c:\\users\\asus\\appdata\\local\\programs\\python\\python311\\lib\\site-packages (from tensorflow-intel==2.12.0->tensorflow) (0.4.0)\n",
      "Requirement already satisfied: google-pasta>=0.1.1 in c:\\users\\asus\\appdata\\local\\programs\\python\\python311\\lib\\site-packages (from tensorflow-intel==2.12.0->tensorflow) (0.2.0)\n",
      "Requirement already satisfied: h5py>=2.9.0 in c:\\users\\asus\\appdata\\local\\programs\\python\\python311\\lib\\site-packages (from tensorflow-intel==2.12.0->tensorflow) (3.8.0)\n",
      "Requirement already satisfied: jax>=0.3.15 in c:\\users\\asus\\appdata\\local\\programs\\python\\python311\\lib\\site-packages (from tensorflow-intel==2.12.0->tensorflow) (0.4.8)\n",
      "Requirement already satisfied: libclang>=13.0.0 in c:\\users\\asus\\appdata\\local\\programs\\python\\python311\\lib\\site-packages (from tensorflow-intel==2.12.0->tensorflow) (16.0.0)\n",
      "Requirement already satisfied: numpy<1.24,>=1.22 in c:\\users\\asus\\appdata\\local\\programs\\python\\python311\\lib\\site-packages (from tensorflow-intel==2.12.0->tensorflow) (1.23.5)\n",
      "Requirement already satisfied: opt-einsum>=2.3.2 in c:\\users\\asus\\appdata\\local\\programs\\python\\python311\\lib\\site-packages (from tensorflow-intel==2.12.0->tensorflow) (3.3.0)\n",
      "Requirement already satisfied: packaging in c:\\users\\asus\\appdata\\local\\programs\\python\\python311\\lib\\site-packages (from tensorflow-intel==2.12.0->tensorflow) (23.0)\n",
      "Requirement already satisfied: protobuf!=4.21.0,!=4.21.1,!=4.21.2,!=4.21.3,!=4.21.4,!=4.21.5,<5.0.0dev,>=3.20.3 in c:\\users\\asus\\appdata\\local\\programs\\python\\python311\\lib\\site-packages (from tensorflow-intel==2.12.0->tensorflow) (4.22.3)\n",
      "Requirement already satisfied: setuptools in c:\\users\\asus\\appdata\\local\\programs\\python\\python311\\lib\\site-packages (from tensorflow-intel==2.12.0->tensorflow) (65.5.0)\n",
      "Requirement already satisfied: six>=1.12.0 in c:\\users\\asus\\appdata\\local\\programs\\python\\python311\\lib\\site-packages (from tensorflow-intel==2.12.0->tensorflow) (1.16.0)\n",
      "Requirement already satisfied: termcolor>=1.1.0 in c:\\users\\asus\\appdata\\local\\programs\\python\\python311\\lib\\site-packages (from tensorflow-intel==2.12.0->tensorflow) (2.3.0)\n",
      "Requirement already satisfied: typing-extensions>=3.6.6 in c:\\users\\asus\\appdata\\local\\programs\\python\\python311\\lib\\site-packages (from tensorflow-intel==2.12.0->tensorflow) (4.5.0)\n",
      "Requirement already satisfied: wrapt<1.15,>=1.11.0 in c:\\users\\asus\\appdata\\local\\programs\\python\\python311\\lib\\site-packages (from tensorflow-intel==2.12.0->tensorflow) (1.14.1)\n",
      "Requirement already satisfied: grpcio<2.0,>=1.24.3 in c:\\users\\asus\\appdata\\local\\programs\\python\\python311\\lib\\site-packages (from tensorflow-intel==2.12.0->tensorflow) (1.54.0)\n",
      "Requirement already satisfied: tensorboard<2.13,>=2.12 in c:\\users\\asus\\appdata\\local\\programs\\python\\python311\\lib\\site-packages (from tensorflow-intel==2.12.0->tensorflow) (2.12.2)\n",
      "Requirement already satisfied: tensorflow-estimator<2.13,>=2.12.0 in c:\\users\\asus\\appdata\\local\\programs\\python\\python311\\lib\\site-packages (from tensorflow-intel==2.12.0->tensorflow) (2.12.0)\n",
      "Requirement already satisfied: keras<2.13,>=2.12.0 in c:\\users\\asus\\appdata\\local\\programs\\python\\python311\\lib\\site-packages (from tensorflow-intel==2.12.0->tensorflow) (2.12.0)\n",
      "Requirement already satisfied: tensorflow-io-gcs-filesystem>=0.23.1 in c:\\users\\asus\\appdata\\local\\programs\\python\\python311\\lib\\site-packages (from tensorflow-intel==2.12.0->tensorflow) (0.31.0)\n",
      "Requirement already satisfied: wheel<1.0,>=0.23.0 in c:\\users\\asus\\appdata\\local\\programs\\python\\python311\\lib\\site-packages (from astunparse>=1.6.0->tensorflow-intel==2.12.0->tensorflow) (0.40.0)\n",
      "Requirement already satisfied: ml-dtypes>=0.0.3 in c:\\users\\asus\\appdata\\local\\programs\\python\\python311\\lib\\site-packages (from jax>=0.3.15->tensorflow-intel==2.12.0->tensorflow) (0.1.0)\n",
      "Requirement already satisfied: scipy>=1.7 in c:\\users\\asus\\appdata\\local\\programs\\python\\python311\\lib\\site-packages (from jax>=0.3.15->tensorflow-intel==2.12.0->tensorflow) (1.10.0)\n",
      "Requirement already satisfied: google-auth<3,>=1.6.3 in c:\\users\\asus\\appdata\\local\\programs\\python\\python311\\lib\\site-packages (from tensorboard<2.13,>=2.12->tensorflow-intel==2.12.0->tensorflow) (2.17.3)\n",
      "Requirement already satisfied: google-auth-oauthlib<1.1,>=0.5 in c:\\users\\asus\\appdata\\local\\programs\\python\\python311\\lib\\site-packages (from tensorboard<2.13,>=2.12->tensorflow-intel==2.12.0->tensorflow) (1.0.0)\n",
      "Requirement already satisfied: markdown>=2.6.8 in c:\\users\\asus\\appdata\\local\\programs\\python\\python311\\lib\\site-packages (from tensorboard<2.13,>=2.12->tensorflow-intel==2.12.0->tensorflow) (3.4.3)\n",
      "Requirement already satisfied: requests<3,>=2.21.0 in c:\\users\\asus\\appdata\\local\\programs\\python\\python311\\lib\\site-packages (from tensorboard<2.13,>=2.12->tensorflow-intel==2.12.0->tensorflow) (2.28.2)\n",
      "Requirement already satisfied: tensorboard-data-server<0.8.0,>=0.7.0 in c:\\users\\asus\\appdata\\local\\programs\\python\\python311\\lib\\site-packages (from tensorboard<2.13,>=2.12->tensorflow-intel==2.12.0->tensorflow) (0.7.0)\n",
      "Requirement already satisfied: tensorboard-plugin-wit>=1.6.0 in c:\\users\\asus\\appdata\\local\\programs\\python\\python311\\lib\\site-packages (from tensorboard<2.13,>=2.12->tensorflow-intel==2.12.0->tensorflow) (1.8.1)\n",
      "Requirement already satisfied: werkzeug>=1.0.1 in c:\\users\\asus\\appdata\\local\\programs\\python\\python311\\lib\\site-packages (from tensorboard<2.13,>=2.12->tensorflow-intel==2.12.0->tensorflow) (2.3.1)\n",
      "Requirement already satisfied: cachetools<6.0,>=2.0.0 in c:\\users\\asus\\appdata\\local\\programs\\python\\python311\\lib\\site-packages (from google-auth<3,>=1.6.3->tensorboard<2.13,>=2.12->tensorflow-intel==2.12.0->tensorflow) (5.3.0)\n",
      "Requirement already satisfied: pyasn1-modules>=0.2.1 in c:\\users\\asus\\appdata\\local\\programs\\python\\python311\\lib\\site-packages (from google-auth<3,>=1.6.3->tensorboard<2.13,>=2.12->tensorflow-intel==2.12.0->tensorflow) (0.3.0)\n",
      "Requirement already satisfied: rsa<5,>=3.1.4 in c:\\users\\asus\\appdata\\local\\programs\\python\\python311\\lib\\site-packages (from google-auth<3,>=1.6.3->tensorboard<2.13,>=2.12->tensorflow-intel==2.12.0->tensorflow) (4.9)\n",
      "Requirement already satisfied: requests-oauthlib>=0.7.0 in c:\\users\\asus\\appdata\\local\\programs\\python\\python311\\lib\\site-packages (from google-auth-oauthlib<1.1,>=0.5->tensorboard<2.13,>=2.12->tensorflow-intel==2.12.0->tensorflow) (1.3.1)\n",
      "Requirement already satisfied: charset-normalizer<4,>=2 in c:\\users\\asus\\appdata\\local\\programs\\python\\python311\\lib\\site-packages (from requests<3,>=2.21.0->tensorboard<2.13,>=2.12->tensorflow-intel==2.12.0->tensorflow) (3.0.1)\n",
      "Requirement already satisfied: idna<4,>=2.5 in c:\\users\\asus\\appdata\\local\\programs\\python\\python311\\lib\\site-packages (from requests<3,>=2.21.0->tensorboard<2.13,>=2.12->tensorflow-intel==2.12.0->tensorflow) (3.4)\n",
      "Requirement already satisfied: urllib3<1.27,>=1.21.1 in c:\\users\\asus\\appdata\\local\\programs\\python\\python311\\lib\\site-packages (from requests<3,>=2.21.0->tensorboard<2.13,>=2.12->tensorflow-intel==2.12.0->tensorflow) (1.26.14)\n",
      "Requirement already satisfied: certifi>=2017.4.17 in c:\\users\\asus\\appdata\\local\\programs\\python\\python311\\lib\\site-packages (from requests<3,>=2.21.0->tensorboard<2.13,>=2.12->tensorflow-intel==2.12.0->tensorflow) (2022.12.7)\n",
      "Requirement already satisfied: MarkupSafe>=2.1.1 in c:\\users\\asus\\appdata\\local\\programs\\python\\python311\\lib\\site-packages (from werkzeug>=1.0.1->tensorboard<2.13,>=2.12->tensorflow-intel==2.12.0->tensorflow) (2.1.2)\n",
      "Requirement already satisfied: pyasn1<0.6.0,>=0.4.6 in c:\\users\\asus\\appdata\\local\\programs\\python\\python311\\lib\\site-packages (from pyasn1-modules>=0.2.1->google-auth<3,>=1.6.3->tensorboard<2.13,>=2.12->tensorflow-intel==2.12.0->tensorflow) (0.5.0)\n",
      "Requirement already satisfied: oauthlib>=3.0.0 in c:\\users\\asus\\appdata\\local\\programs\\python\\python311\\lib\\site-packages (from requests-oauthlib>=0.7.0->google-auth-oauthlib<1.1,>=0.5->tensorboard<2.13,>=2.12->tensorflow-intel==2.12.0->tensorflow) (3.2.2)\n"
     ]
    }
   ],
   "source": [
    "pip install tensorflow"
   ]
  },
  {
   "cell_type": "code",
   "execution_count": 2,
   "metadata": {},
   "outputs": [],
   "source": [
    "import numpy as np,pandas as pd,matplotlib.pyplot as plt\n",
    "from sklearn.preprocessing import MinMaxScaler\n",
    "from tensorflow.keras.layers import Dense, Dropout,LSTM\n",
    "from tensorflow.keras.models import Sequential\n",
    "plt.style.use('fivethirtyeight')"
   ]
  },
  {
   "cell_type": "code",
   "execution_count": 3,
   "metadata": {},
   "outputs": [
    {
     "data": {
      "text/plain": [
       "dict_keys(['meta', 'values', 'status'])"
      ]
     },
     "execution_count": 3,
     "metadata": {},
     "output_type": "execute_result"
    }
   ],
   "source": [
    "import requests\n",
    "# api key is unique key for every user.\n",
    "api_key='e798902f305c4f249b50b14ae1dcc15d'\n",
    "symbol='BTC/USD'\n",
    "interval='5min'\n",
    "order='asc'\n",
    "start_data='2023-05-01 00:00:00'\n",
    "end_date='2023-5-20 00:00:00'\n",
    "api_url=f'https://api.twelvedata.com/time_series?symbol={symbol}&start_date={start_data}&end_date={end_date}&interval={interval}&order={order}&apikey={api_key}'\n",
    "data = requests.get(api_url).json()\n",
    "data.keys()\n"
   ]
  },
  {
   "cell_type": "code",
   "execution_count": 4,
   "metadata": {},
   "outputs": [
    {
     "data": {
      "text/html": [
       "<div>\n",
       "<style scoped>\n",
       "    .dataframe tbody tr th:only-of-type {\n",
       "        vertical-align: middle;\n",
       "    }\n",
       "\n",
       "    .dataframe tbody tr th {\n",
       "        vertical-align: top;\n",
       "    }\n",
       "\n",
       "    .dataframe thead th {\n",
       "        text-align: right;\n",
       "    }\n",
       "</style>\n",
       "<table border=\"1\" class=\"dataframe\">\n",
       "  <thead>\n",
       "    <tr style=\"text-align: right;\">\n",
       "      <th></th>\n",
       "      <th>datetime</th>\n",
       "      <th>open</th>\n",
       "      <th>high</th>\n",
       "      <th>low</th>\n",
       "      <th>close</th>\n",
       "    </tr>\n",
       "  </thead>\n",
       "  <tbody>\n",
       "    <tr>\n",
       "      <th>0</th>\n",
       "      <td>2023-05-02 14:50:00</td>\n",
       "      <td>28479.36000</td>\n",
       "      <td>28499.32000</td>\n",
       "      <td>28300.00000</td>\n",
       "      <td>28368.15000</td>\n",
       "    </tr>\n",
       "    <tr>\n",
       "      <th>1</th>\n",
       "      <td>2023-05-02 14:55:00</td>\n",
       "      <td>28364.59000</td>\n",
       "      <td>28402.82000</td>\n",
       "      <td>28329.61000</td>\n",
       "      <td>28380.45000</td>\n",
       "    </tr>\n",
       "    <tr>\n",
       "      <th>2</th>\n",
       "      <td>2023-05-02 15:00:00</td>\n",
       "      <td>28377.57000</td>\n",
       "      <td>28384.90000</td>\n",
       "      <td>28269.70000</td>\n",
       "      <td>28342.10000</td>\n",
       "    </tr>\n",
       "    <tr>\n",
       "      <th>3</th>\n",
       "      <td>2023-05-02 15:05:00</td>\n",
       "      <td>28336.86000</td>\n",
       "      <td>28393.13000</td>\n",
       "      <td>28303.75000</td>\n",
       "      <td>28380.82000</td>\n",
       "    </tr>\n",
       "    <tr>\n",
       "      <th>4</th>\n",
       "      <td>2023-05-02 15:10:00</td>\n",
       "      <td>28381.48000</td>\n",
       "      <td>28497.50000</td>\n",
       "      <td>28381.48000</td>\n",
       "      <td>28463.26000</td>\n",
       "    </tr>\n",
       "    <tr>\n",
       "      <th>...</th>\n",
       "      <td>...</td>\n",
       "      <td>...</td>\n",
       "      <td>...</td>\n",
       "      <td>...</td>\n",
       "      <td>...</td>\n",
       "    </tr>\n",
       "    <tr>\n",
       "      <th>4995</th>\n",
       "      <td>2023-05-19 23:40:00</td>\n",
       "      <td>26898.55000</td>\n",
       "      <td>26902.09000</td>\n",
       "      <td>26893.62000</td>\n",
       "      <td>26902.09000</td>\n",
       "    </tr>\n",
       "    <tr>\n",
       "      <th>4996</th>\n",
       "      <td>2023-05-19 23:45:00</td>\n",
       "      <td>26902.08000</td>\n",
       "      <td>26911.39000</td>\n",
       "      <td>26892.77000</td>\n",
       "      <td>26894.49000</td>\n",
       "    </tr>\n",
       "    <tr>\n",
       "      <th>4997</th>\n",
       "      <td>2023-05-19 23:50:00</td>\n",
       "      <td>26894.49000</td>\n",
       "      <td>26894.49000</td>\n",
       "      <td>26873.15000</td>\n",
       "      <td>26875.44000</td>\n",
       "    </tr>\n",
       "    <tr>\n",
       "      <th>4998</th>\n",
       "      <td>2023-05-19 23:55:00</td>\n",
       "      <td>26875.45000</td>\n",
       "      <td>26892.93000</td>\n",
       "      <td>26872.43000</td>\n",
       "      <td>26890.27000</td>\n",
       "    </tr>\n",
       "    <tr>\n",
       "      <th>4999</th>\n",
       "      <td>2023-05-20 00:00:00</td>\n",
       "      <td>26890.27000</td>\n",
       "      <td>26895.64000</td>\n",
       "      <td>26874.66000</td>\n",
       "      <td>26891.20000</td>\n",
       "    </tr>\n",
       "  </tbody>\n",
       "</table>\n",
       "<p>5000 rows × 5 columns</p>\n",
       "</div>"
      ],
      "text/plain": [
       "                 datetime         open         high          low        close\n",
       "0     2023-05-02 14:50:00  28479.36000  28499.32000  28300.00000  28368.15000\n",
       "1     2023-05-02 14:55:00  28364.59000  28402.82000  28329.61000  28380.45000\n",
       "2     2023-05-02 15:00:00  28377.57000  28384.90000  28269.70000  28342.10000\n",
       "3     2023-05-02 15:05:00  28336.86000  28393.13000  28303.75000  28380.82000\n",
       "4     2023-05-02 15:10:00  28381.48000  28497.50000  28381.48000  28463.26000\n",
       "...                   ...          ...          ...          ...          ...\n",
       "4995  2023-05-19 23:40:00  26898.55000  26902.09000  26893.62000  26902.09000\n",
       "4996  2023-05-19 23:45:00  26902.08000  26911.39000  26892.77000  26894.49000\n",
       "4997  2023-05-19 23:50:00  26894.49000  26894.49000  26873.15000  26875.44000\n",
       "4998  2023-05-19 23:55:00  26875.45000  26892.93000  26872.43000  26890.27000\n",
       "4999  2023-05-20 00:00:00  26890.27000  26895.64000  26874.66000  26891.20000\n",
       "\n",
       "[5000 rows x 5 columns]"
      ]
     },
     "execution_count": 4,
     "metadata": {},
     "output_type": "execute_result"
    }
   ],
   "source": [
    "import pandas as pd\n",
    "data_final=pd.DataFrame(data['values'])\n",
    "data_final\n"
   ]
  },
  {
   "cell_type": "code",
   "execution_count": null,
   "metadata": {},
   "outputs": [
    {
     "data": {
      "text/plain": [
       "array([[0.62674201],\n",
       "       [0.62993765],\n",
       "       [0.61997402],\n",
       "       ...,\n",
       "       [0.2389244 ],\n",
       "       [0.24277734],\n",
       "       [0.24301897]])"
      ]
     },
     "execution_count": 11,
     "metadata": {},
     "output_type": "execute_result"
    }
   ],
   "source": [
    "scaler=MinMaxScaler(feature_range=(0,1))\n",
    "scaled_data=scaler.fit_transform(data_final['close'].values.reshape(-1,1))\n",
    "scaled_data\n",
    "# it is sclaing data betweein 0 to 1"
   ]
  },
  {
   "cell_type": "code",
   "execution_count": null,
   "metadata": {},
   "outputs": [
    {
     "data": {
      "text/plain": [
       "array([[0.62674201, 0.62993765, 0.61997402, ..., 0.66591322, 0.66820733,\n",
       "        0.65771369],\n",
       "       [0.62993765, 0.61997402, 0.63003378, ..., 0.66820733, 0.65771369,\n",
       "        0.66227592],\n",
       "       [0.61997402, 0.63003378, 0.65145233, ..., 0.65771369, 0.66227592,\n",
       "        0.65603274],\n",
       "       ...,\n",
       "       [0.23248376, 0.22978956, 0.23023383, ..., 0.24191738, 0.24034814,\n",
       "        0.23828007],\n",
       "       [0.22978956, 0.23023383, 0.23434399, ..., 0.24034814, 0.23828007,\n",
       "        0.23914523],\n",
       "       [0.23023383, 0.23434399, 0.23610808, ..., 0.23828007, 0.23914523,\n",
       "        0.23991946]])"
      ]
     },
     "execution_count": 12,
     "metadata": {},
     "output_type": "execute_result"
    }
   ],
   "source": [
    "time_interval_to_train=24\n",
    "prediction_interval=12\n",
    "x_train=[]\n",
    "y_train=[]\n",
    "for i in range(time_interval_to_train,len(scaled_data)-prediction_interval):\n",
    "  x_train.append(scaled_data[i-time_interval_to_train: i,0])\n",
    "  y_train.append(scaled_data[i+prediction_interval: i,0])\n",
    "x_train=np.array(x_train)\n",
    "y_train=np.array(y_train)\n",
    "x_train"
   ]
  },
  {
   "cell_type": "code",
   "execution_count": 21,
   "metadata": {},
   "outputs": [
    {
     "data": {
      "text/plain": [
       "array([], shape=(4964, 0), dtype=float64)"
      ]
     },
     "execution_count": 21,
     "metadata": {},
     "output_type": "execute_result"
    }
   ],
   "source": [
    "y_train"
   ]
  },
  {
   "cell_type": "code",
   "execution_count": 22,
   "metadata": {},
   "outputs": [],
   "source": [
    "model=Sequential()\n",
    "model.add(LSTM(128,return_sequences=True,input_shape=(x_train.shape[1],1), activation='relu'))\n",
    "model.add(Dropout(0.4))\n",
    "model.add(LSTM(64,return_sequences=True,activation=\"relu\"))\n",
    "model.add(Dropout(0.3))\n",
    "model.add(LSTM(32,activation='relu'))\n",
    "model.add(Dropout(0.2))\n",
    "model.add(Dense(1,activation='sigmoid'))"
   ]
  },
  {
   "cell_type": "code",
   "execution_count": 23,
   "metadata": {},
   "outputs": [],
   "source": [
    "from sklearn.preprocessing import MinMaxScaler\n",
    "model.compile(loss='mean_squared_error',optimizer='adam', metrics=['accuracy'])"
   ]
  },
  {
   "cell_type": "code",
   "execution_count": 24,
   "metadata": {},
   "outputs": [
    {
     "name": "stdout",
     "output_type": "stream",
     "text": [
      "Epoch 1/10\n",
      "78/78 [==============================] - 14s 72ms/step - loss: nan - accuracy: nan\n",
      "Epoch 2/10\n",
      "78/78 [==============================] - 6s 72ms/step - loss: nan - accuracy: nan\n",
      "Epoch 3/10\n",
      "78/78 [==============================] - 6s 70ms/step - loss: nan - accuracy: nan\n",
      "Epoch 4/10\n",
      "78/78 [==============================] - 6s 72ms/step - loss: nan - accuracy: nan\n",
      "Epoch 5/10\n",
      "78/78 [==============================] - 6s 71ms/step - loss: nan - accuracy: nan\n",
      "Epoch 6/10\n",
      "78/78 [==============================] - 6s 72ms/step - loss: nan - accuracy: nan\n",
      "Epoch 7/10\n",
      "78/78 [==============================] - 6s 71ms/step - loss: nan - accuracy: nan\n",
      "Epoch 8/10\n",
      "78/78 [==============================] - 6s 71ms/step - loss: nan - accuracy: nan\n",
      "Epoch 9/10\n",
      "78/78 [==============================] - 5s 70ms/step - loss: nan - accuracy: nan\n",
      "Epoch 10/10\n",
      "78/78 [==============================] - 6s 77ms/step - loss: nan - accuracy: nan\n"
     ]
    },
    {
     "data": {
      "text/plain": [
       "<keras.callbacks.History at 0x2393d7303d0>"
      ]
     },
     "execution_count": 24,
     "metadata": {},
     "output_type": "execute_result"
    }
   ],
   "source": [
    "model.fit(x_train,y_train,epochs=10,batch_size=64)"
   ]
  },
  {
   "cell_type": "code",
   "execution_count": 25,
   "metadata": {},
   "outputs": [
    {
     "data": {
      "text/html": [
       "<div>\n",
       "<style scoped>\n",
       "    .dataframe tbody tr th:only-of-type {\n",
       "        vertical-align: middle;\n",
       "    }\n",
       "\n",
       "    .dataframe tbody tr th {\n",
       "        vertical-align: top;\n",
       "    }\n",
       "\n",
       "    .dataframe thead th {\n",
       "        text-align: right;\n",
       "    }\n",
       "</style>\n",
       "<table border=\"1\" class=\"dataframe\">\n",
       "  <thead>\n",
       "    <tr style=\"text-align: right;\">\n",
       "      <th></th>\n",
       "      <th>datetime</th>\n",
       "      <th>open</th>\n",
       "      <th>high</th>\n",
       "      <th>low</th>\n",
       "      <th>close</th>\n",
       "    </tr>\n",
       "  </thead>\n",
       "  <tbody>\n",
       "    <tr>\n",
       "      <th>0</th>\n",
       "      <td>2021-10-20 00:00:00</td>\n",
       "      <td>64300.01172</td>\n",
       "      <td>64381.44922</td>\n",
       "      <td>64235.94141</td>\n",
       "      <td>64257.17188</td>\n",
       "    </tr>\n",
       "    <tr>\n",
       "      <th>1</th>\n",
       "      <td>2021-10-20 00:05:00</td>\n",
       "      <td>64255.21875</td>\n",
       "      <td>64265.83984</td>\n",
       "      <td>64099.76953</td>\n",
       "      <td>64134.44922</td>\n",
       "    </tr>\n",
       "    <tr>\n",
       "      <th>2</th>\n",
       "      <td>2021-10-20 00:10:00</td>\n",
       "      <td>64133.71875</td>\n",
       "      <td>64207.78125</td>\n",
       "      <td>64133.71875</td>\n",
       "      <td>64177.23047</td>\n",
       "    </tr>\n",
       "    <tr>\n",
       "      <th>3</th>\n",
       "      <td>2021-10-20 00:15:00</td>\n",
       "      <td>64185.44922</td>\n",
       "      <td>64232.28906</td>\n",
       "      <td>64119.21875</td>\n",
       "      <td>64137.94141</td>\n",
       "    </tr>\n",
       "    <tr>\n",
       "      <th>4</th>\n",
       "      <td>2021-10-20 00:20:00</td>\n",
       "      <td>64137.69922</td>\n",
       "      <td>64166.08984</td>\n",
       "      <td>64083.42188</td>\n",
       "      <td>64083.42188</td>\n",
       "    </tr>\n",
       "    <tr>\n",
       "      <th>...</th>\n",
       "      <td>...</td>\n",
       "      <td>...</td>\n",
       "      <td>...</td>\n",
       "      <td>...</td>\n",
       "      <td>...</td>\n",
       "    </tr>\n",
       "    <tr>\n",
       "      <th>4018</th>\n",
       "      <td>2021-11-02 23:40:00</td>\n",
       "      <td>62904.96094</td>\n",
       "      <td>63113.03125</td>\n",
       "      <td>62886.03906</td>\n",
       "      <td>63113.03125</td>\n",
       "    </tr>\n",
       "    <tr>\n",
       "      <th>4019</th>\n",
       "      <td>2021-11-02 23:45:00</td>\n",
       "      <td>63113.69141</td>\n",
       "      <td>63177.92969</td>\n",
       "      <td>63064.35938</td>\n",
       "      <td>63175.19922</td>\n",
       "    </tr>\n",
       "    <tr>\n",
       "      <th>4020</th>\n",
       "      <td>2021-11-02 23:50:00</td>\n",
       "      <td>63175.19141</td>\n",
       "      <td>63282.32031</td>\n",
       "      <td>63157.66016</td>\n",
       "      <td>63157.66016</td>\n",
       "    </tr>\n",
       "    <tr>\n",
       "      <th>4021</th>\n",
       "      <td>2021-11-02 23:55:00</td>\n",
       "      <td>63159.26953</td>\n",
       "      <td>63261.10938</td>\n",
       "      <td>63159.26953</td>\n",
       "      <td>63261.10938</td>\n",
       "    </tr>\n",
       "    <tr>\n",
       "      <th>4022</th>\n",
       "      <td>2021-11-03 00:00:00</td>\n",
       "      <td>63258.73047</td>\n",
       "      <td>63388.07812</td>\n",
       "      <td>63258.73047</td>\n",
       "      <td>63350.42969</td>\n",
       "    </tr>\n",
       "  </tbody>\n",
       "</table>\n",
       "<p>4023 rows × 5 columns</p>\n",
       "</div>"
      ],
      "text/plain": [
       "                 datetime         open         high          low        close\n",
       "0     2021-10-20 00:00:00  64300.01172  64381.44922  64235.94141  64257.17188\n",
       "1     2021-10-20 00:05:00  64255.21875  64265.83984  64099.76953  64134.44922\n",
       "2     2021-10-20 00:10:00  64133.71875  64207.78125  64133.71875  64177.23047\n",
       "3     2021-10-20 00:15:00  64185.44922  64232.28906  64119.21875  64137.94141\n",
       "4     2021-10-20 00:20:00  64137.69922  64166.08984  64083.42188  64083.42188\n",
       "...                   ...          ...          ...          ...          ...\n",
       "4018  2021-11-02 23:40:00  62904.96094  63113.03125  62886.03906  63113.03125\n",
       "4019  2021-11-02 23:45:00  63113.69141  63177.92969  63064.35938  63175.19922\n",
       "4020  2021-11-02 23:50:00  63175.19141  63282.32031  63157.66016  63157.66016\n",
       "4021  2021-11-02 23:55:00  63159.26953  63261.10938  63159.26953  63261.10938\n",
       "4022  2021-11-03 00:00:00  63258.73047  63388.07812  63258.73047  63350.42969\n",
       "\n",
       "[4023 rows x 5 columns]"
      ]
     },
     "execution_count": 25,
     "metadata": {},
     "output_type": "execute_result"
    }
   ],
   "source": [
    "test_start='2021-10-20 00:00:00'\n",
    "test_end='2021-11-03 00:00:00'\n",
    "test_api_url=f'https://api.twelvedata.com/time_series?symbol={symbol}&start_date={test_start}&end_date={test_end}&interval={interval}&order={order}&apikey={api_key}'\n",
    "test_data = requests.get(test_api_url).json()\n",
    "test_data_final=pd.DataFrame(test_data['values'])\n",
    "test_data_final"
   ]
  },
  {
   "cell_type": "code",
   "execution_count": 27,
   "metadata": {},
   "outputs": [
    {
     "data": {
      "text/plain": [
       "array([[0.70139059],\n",
       "       [0.68760838],\n",
       "       [0.69241288],\n",
       "       ...,\n",
       "       [0.57791135],\n",
       "       [0.58952908],\n",
       "       [0.59956009]])"
      ]
     },
     "execution_count": 27,
     "metadata": {},
     "output_type": "execute_result"
    }
   ],
   "source": [
    "bitcoin_prices=pd.to_numeric(test_data_final['close'],errors='coerce').values\n",
    "test_inputs=test_data_final['close'].values\n",
    "test_inputs=test_inputs.reshape(-1,1)\n",
    "model_inputs=scaler.fit_transform(test_inputs)\n",
    "model_inputs"
   ]
  },
  {
   "cell_type": "code",
   "execution_count": 33,
   "metadata": {},
   "outputs": [],
   "source": [
    "x_test=[]\n",
    "# time_interval_to_train=24\n",
    "for x in range(time_interval_to_train,len(model_inputs)):\n",
    "  x_test.append(model_inputs[x-time_interval_to_train:x,0])\n",
    "\n",
    "x_test=np.array(x_test)\n",
    "x_test=np.reshape(x_test,(x_test.shape[0],x_test.shape[1],1))\n"
   ]
  },
  {
   "cell_type": "code",
   "execution_count": 34,
   "metadata": {},
   "outputs": [
    {
     "name": "stdout",
     "output_type": "stream",
     "text": [
      "125/125 [==============================] - 3s 19ms/step\n"
     ]
    }
   ],
   "source": [
    "prediction_prices=model.predict(x_test)\n",
    "prediction_prices=scaler.inverse_transform(prediction_prices)"
   ]
  },
  {
   "cell_type": "code",
   "execution_count": 1,
   "metadata": {},
   "outputs": [
    {
     "ename": "NameError",
     "evalue": "name 'plt' is not defined",
     "output_type": "error",
     "traceback": [
      "\u001b[1;31m---------------------------------------------------------------------------\u001b[0m",
      "\u001b[1;31mNameError\u001b[0m                                 Traceback (most recent call last)",
      "Cell \u001b[1;32mIn[1], line 1\u001b[0m\n\u001b[1;32m----> 1\u001b[0m plt\u001b[39m.\u001b[39mplot(bitcoin_prices,label\u001b[39m=\u001b[39m\u001b[39m'\u001b[39m\u001b[39mBitcoin Prices\u001b[39m\u001b[39m'\u001b[39m)\n\u001b[0;32m      2\u001b[0m \u001b[39m# plt.plot(prediction_prices,label='Predicted_prices')\u001b[39;00m\n\u001b[0;32m      3\u001b[0m plt\u001b[39m.\u001b[39mtitle(\u001b[39m'\u001b[39m\u001b[39mBITCOIN Price Predictor\u001b[39m\u001b[39m'\u001b[39m)\n",
      "\u001b[1;31mNameError\u001b[0m: name 'plt' is not defined"
     ]
    }
   ],
   "source": [
    "plt.plot(bitcoin_prices,label='Bitcoin Prices')\n",
    "# plt.plot(prediction_prices,label='Predicted_prices')\n",
    "plt.title('BITCOIN Price Predictor')\n",
    "plt.xlabel('5 min Time Interval')\n",
    "plt.ylabel('BITCOIN Price')\n",
    "plt.legend()\n",
    "plt.show()"
   ]
  },
  {
   "cell_type": "code",
   "execution_count": 42,
   "metadata": {},
   "outputs": [
    {
     "data": {
      "image/png": "[encoded data removed]",
      "text/plain": [
       "<Figure size 640x480 with 1 Axes>"
      ]
     },
     "metadata": {},
     "output_type": "display_data"
    }
   ],
   "source": [
    "plt.plot(prediction_prices,label='Predicted_prices')\n",
    "plt.title('BITCOIN Price Predictor')\n",
    "plt.xlabel('5 min Time Interval')\n",
    "plt.ylabel('BITCOIN Price')\n",
    "plt.legend()\n",
    "plt.show()"
   ]
  }
 ],
 "metadata": {
  "kernelspec": {
   "display_name": "Python 3",
   "language": "python",
   "name": "python3"
  },
  "language_info": {
   "codemirror_mode": {
    "name": "ipython",
    "version": 3
   },
   "file_extension": ".py",
   "mimetype": "text/x-python",
   "name": "python",
   "nbconvert_exporter": "python",
   "pygments_lexer": "ipython3",
   "version": "3.11.3"
  },
  "orig_nbformat": 4
 },
 "nbformat": 4,
 "nbformat_minor": 2
}
